{
 "cells": [
  {
   "cell_type": "markdown",
   "metadata": {},
   "source": [
    "# 2.7 Assignation table"
   ]
  },
  {
   "cell_type": "code",
   "execution_count": 1,
   "metadata": {
    "collapsed": true
   },
   "outputs": [],
   "source": [
    "import numpy as np\n",
    "from numpy.random import randn\n",
    "import pandas as pd\n",
    "from pandas import Series, DataFrame"
   ]
  },
  {
   "cell_type": "code",
   "execution_count": 11,
   "metadata": {},
   "outputs": [
    {
     "data": {
      "text/html": [
       "<div>\n",
       "<style>\n",
       "    .dataframe thead tr:only-child th {\n",
       "        text-align: right;\n",
       "    }\n",
       "\n",
       "    .dataframe thead th {\n",
       "        text-align: left;\n",
       "    }\n",
       "\n",
       "    .dataframe tbody tr th {\n",
       "        vertical-align: top;\n",
       "    }\n",
       "</style>\n",
       "<table border=\"1\" class=\"dataframe\">\n",
       "  <thead>\n",
       "    <tr style=\"text-align: right;\">\n",
       "      <th></th>\n",
       "      <th>Quarter</th>\n",
       "      <th>no_projects</th>\n",
       "      <th>id</th>\n",
       "      <th>Project_Name</th>\n",
       "      <th>OEM</th>\n",
       "      <th>engine_type</th>\n",
       "      <th>Duration</th>\n",
       "      <th>KPI</th>\n",
       "      <th>Category</th>\n",
       "      <th>Title</th>\n",
       "      <th>hires</th>\n",
       "      <th>Category_c</th>\n",
       "    </tr>\n",
       "  </thead>\n",
       "  <tbody>\n",
       "    <tr>\n",
       "      <th>0</th>\n",
       "      <td>Q3 1985</td>\n",
       "      <td>1</td>\n",
       "      <td>139</td>\n",
       "      <td>Subaru_OHCF_85</td>\n",
       "      <td>subaru</td>\n",
       "      <td>ohcf</td>\n",
       "      <td>12.010959</td>\n",
       "      <td>5.76</td>\n",
       "      <td>L</td>\n",
       "      <td>Assistant Engineer</td>\n",
       "      <td>344.727273</td>\n",
       "      <td>1</td>\n",
       "    </tr>\n",
       "    <tr>\n",
       "      <th>1</th>\n",
       "      <td>Q3 1985</td>\n",
       "      <td>1</td>\n",
       "      <td>139</td>\n",
       "      <td>Subaru_OHCF_85</td>\n",
       "      <td>subaru</td>\n",
       "      <td>ohcf</td>\n",
       "      <td>12.010959</td>\n",
       "      <td>5.76</td>\n",
       "      <td>L</td>\n",
       "      <td>Engineer</td>\n",
       "      <td>2353.454545</td>\n",
       "      <td>1</td>\n",
       "    </tr>\n",
       "    <tr>\n",
       "      <th>2</th>\n",
       "      <td>Q3 1985</td>\n",
       "      <td>1</td>\n",
       "      <td>139</td>\n",
       "      <td>Subaru_OHCF_85</td>\n",
       "      <td>subaru</td>\n",
       "      <td>ohcf</td>\n",
       "      <td>12.010959</td>\n",
       "      <td>5.76</td>\n",
       "      <td>L</td>\n",
       "      <td>Manager_new</td>\n",
       "      <td>3.272727</td>\n",
       "      <td>1</td>\n",
       "    </tr>\n",
       "    <tr>\n",
       "      <th>3</th>\n",
       "      <td>Q3 1985</td>\n",
       "      <td>1</td>\n",
       "      <td>139</td>\n",
       "      <td>Subaru_OHCF_85</td>\n",
       "      <td>subaru</td>\n",
       "      <td>ohcf</td>\n",
       "      <td>12.010959</td>\n",
       "      <td>5.76</td>\n",
       "      <td>L</td>\n",
       "      <td>Senior Engineer</td>\n",
       "      <td>667.272727</td>\n",
       "      <td>1</td>\n",
       "    </tr>\n",
       "    <tr>\n",
       "      <th>4</th>\n",
       "      <td>Q3 1985</td>\n",
       "      <td>1</td>\n",
       "      <td>139</td>\n",
       "      <td>Subaru_OHCF_85</td>\n",
       "      <td>subaru</td>\n",
       "      <td>ohcf</td>\n",
       "      <td>12.010959</td>\n",
       "      <td>5.76</td>\n",
       "      <td>L</td>\n",
       "      <td>Senior Staff</td>\n",
       "      <td>605.454545</td>\n",
       "      <td>1</td>\n",
       "    </tr>\n",
       "  </tbody>\n",
       "</table>\n",
       "</div>"
      ],
      "text/plain": [
       "   Quarter  no_projects   id    Project_Name     OEM engine_type  Duration   \\\n",
       "0  Q3 1985            1  139  Subaru_OHCF_85  subaru        ohcf  12.010959   \n",
       "1  Q3 1985            1  139  Subaru_OHCF_85  subaru        ohcf  12.010959   \n",
       "2  Q3 1985            1  139  Subaru_OHCF_85  subaru        ohcf  12.010959   \n",
       "3  Q3 1985            1  139  Subaru_OHCF_85  subaru        ohcf  12.010959   \n",
       "4  Q3 1985            1  139  Subaru_OHCF_85  subaru        ohcf  12.010959   \n",
       "\n",
       "    KPI Category               Title        hires  Category_c  \n",
       "0  5.76        L  Assistant Engineer   344.727273           1  \n",
       "1  5.76        L            Engineer  2353.454545           1  \n",
       "2  5.76        L         Manager_new     3.272727           1  \n",
       "3  5.76        L     Senior Engineer   667.272727           1  \n",
       "4  5.76        L        Senior Staff   605.454545           1  "
      ]
     },
     "execution_count": 11,
     "metadata": {},
     "output_type": "execute_result"
    }
   ],
   "source": [
    "address = 'C:/Users/Moanesga/Desktop/Data/Project Table/1985_to_1991.csv'\n",
    "Assign = pd.read_csv(address,delimiter= ';')\n",
    "Assign.columns = ['Quarter','no_projects','id','Project_Name','OEM','engine_type','Duration ',\n",
    "                  'KPI','Category','Title','hires','Category_c']\n",
    "Assign.head(5)"
   ]
  },
  {
   "cell_type": "code",
   "execution_count": 20,
   "metadata": {},
   "outputs": [
    {
     "data": {
      "text/html": [
       "<div>\n",
       "<style>\n",
       "    .dataframe thead tr:only-child th {\n",
       "        text-align: right;\n",
       "    }\n",
       "\n",
       "    .dataframe thead th {\n",
       "        text-align: left;\n",
       "    }\n",
       "\n",
       "    .dataframe tbody tr th {\n",
       "        vertical-align: top;\n",
       "    }\n",
       "</style>\n",
       "<table border=\"1\" class=\"dataframe\">\n",
       "  <thead>\n",
       "    <tr style=\"text-align: right;\">\n",
       "      <th></th>\n",
       "      <th>Quarter</th>\n",
       "      <th>Q</th>\n",
       "      <th>dd.mm.</th>\n",
       "      <th>year</th>\n",
       "      <th>date</th>\n",
       "      <th>date_</th>\n",
       "      <th>no_projects</th>\n",
       "      <th>Duration</th>\n",
       "      <th>KPI</th>\n",
       "      <th>Category_c</th>\n",
       "      <th>...</th>\n",
       "      <th>dohcv</th>\n",
       "      <th>l</th>\n",
       "      <th>Assistant Engineer</th>\n",
       "      <th>Engineer</th>\n",
       "      <th>Manager_new</th>\n",
       "      <th>Senior Engineer</th>\n",
       "      <th>Senior Staff</th>\n",
       "      <th>Staff</th>\n",
       "      <th>Technique Leader</th>\n",
       "      <th>hires</th>\n",
       "    </tr>\n",
       "  </thead>\n",
       "  <tbody>\n",
       "    <tr>\n",
       "      <th>0</th>\n",
       "      <td>Q3 1985</td>\n",
       "      <td>Q3</td>\n",
       "      <td>30.09.</td>\n",
       "      <td>1985</td>\n",
       "      <td>30.09.1985</td>\n",
       "      <td>30.09.1985</td>\n",
       "      <td>1</td>\n",
       "      <td>12.0</td>\n",
       "      <td>5.76</td>\n",
       "      <td>1</td>\n",
       "      <td>...</td>\n",
       "      <td>0</td>\n",
       "      <td>0</td>\n",
       "      <td>1</td>\n",
       "      <td>0</td>\n",
       "      <td>0</td>\n",
       "      <td>0</td>\n",
       "      <td>0</td>\n",
       "      <td>0</td>\n",
       "      <td>0</td>\n",
       "      <td>344.727273</td>\n",
       "    </tr>\n",
       "    <tr>\n",
       "      <th>1</th>\n",
       "      <td>Q3 1985</td>\n",
       "      <td>Q3</td>\n",
       "      <td>30.09.</td>\n",
       "      <td>1985</td>\n",
       "      <td>30.09.1985</td>\n",
       "      <td>30.09.1985</td>\n",
       "      <td>1</td>\n",
       "      <td>12.0</td>\n",
       "      <td>5.76</td>\n",
       "      <td>1</td>\n",
       "      <td>...</td>\n",
       "      <td>0</td>\n",
       "      <td>0</td>\n",
       "      <td>0</td>\n",
       "      <td>1</td>\n",
       "      <td>0</td>\n",
       "      <td>0</td>\n",
       "      <td>0</td>\n",
       "      <td>0</td>\n",
       "      <td>0</td>\n",
       "      <td>2353.454545</td>\n",
       "    </tr>\n",
       "    <tr>\n",
       "      <th>2</th>\n",
       "      <td>Q3 1985</td>\n",
       "      <td>Q3</td>\n",
       "      <td>30.09.</td>\n",
       "      <td>1985</td>\n",
       "      <td>30.09.1985</td>\n",
       "      <td>30.09.1985</td>\n",
       "      <td>1</td>\n",
       "      <td>12.0</td>\n",
       "      <td>5.76</td>\n",
       "      <td>1</td>\n",
       "      <td>...</td>\n",
       "      <td>0</td>\n",
       "      <td>0</td>\n",
       "      <td>0</td>\n",
       "      <td>0</td>\n",
       "      <td>1</td>\n",
       "      <td>0</td>\n",
       "      <td>0</td>\n",
       "      <td>0</td>\n",
       "      <td>0</td>\n",
       "      <td>3.272727</td>\n",
       "    </tr>\n",
       "    <tr>\n",
       "      <th>3</th>\n",
       "      <td>Q3 1985</td>\n",
       "      <td>Q3</td>\n",
       "      <td>30.09.</td>\n",
       "      <td>1985</td>\n",
       "      <td>30.09.1985</td>\n",
       "      <td>30.09.1985</td>\n",
       "      <td>1</td>\n",
       "      <td>12.0</td>\n",
       "      <td>5.76</td>\n",
       "      <td>1</td>\n",
       "      <td>...</td>\n",
       "      <td>0</td>\n",
       "      <td>0</td>\n",
       "      <td>0</td>\n",
       "      <td>0</td>\n",
       "      <td>0</td>\n",
       "      <td>1</td>\n",
       "      <td>0</td>\n",
       "      <td>0</td>\n",
       "      <td>0</td>\n",
       "      <td>667.272727</td>\n",
       "    </tr>\n",
       "    <tr>\n",
       "      <th>4</th>\n",
       "      <td>Q3 1985</td>\n",
       "      <td>Q3</td>\n",
       "      <td>30.09.</td>\n",
       "      <td>1985</td>\n",
       "      <td>30.09.1985</td>\n",
       "      <td>30.09.1985</td>\n",
       "      <td>1</td>\n",
       "      <td>12.0</td>\n",
       "      <td>5.76</td>\n",
       "      <td>1</td>\n",
       "      <td>...</td>\n",
       "      <td>0</td>\n",
       "      <td>0</td>\n",
       "      <td>0</td>\n",
       "      <td>0</td>\n",
       "      <td>0</td>\n",
       "      <td>0</td>\n",
       "      <td>1</td>\n",
       "      <td>0</td>\n",
       "      <td>0</td>\n",
       "      <td>605.454545</td>\n",
       "    </tr>\n",
       "  </tbody>\n",
       "</table>\n",
       "<p>5 rows × 47 columns</p>\n",
       "</div>"
      ],
      "text/plain": [
       "   Quarter   Q  dd.mm.  year        date       date_  no_projects  Duration   \\\n",
       "0  Q3 1985  Q3  30.09.  1985  30.09.1985  30.09.1985            1       12.0   \n",
       "1  Q3 1985  Q3  30.09.  1985  30.09.1985  30.09.1985            1       12.0   \n",
       "2  Q3 1985  Q3  30.09.  1985  30.09.1985  30.09.1985            1       12.0   \n",
       "3  Q3 1985  Q3  30.09.  1985  30.09.1985  30.09.1985            1       12.0   \n",
       "4  Q3 1985  Q3  30.09.  1985  30.09.1985  30.09.1985            1       12.0   \n",
       "\n",
       "    KPI  Category_c     ...       dohcv  l  Assistant Engineer  Engineer  \\\n",
       "0  5.76           1     ...           0  0                   1         0   \n",
       "1  5.76           1     ...           0  0                   0         1   \n",
       "2  5.76           1     ...           0  0                   0         0   \n",
       "3  5.76           1     ...           0  0                   0         0   \n",
       "4  5.76           1     ...           0  0                   0         0   \n",
       "\n",
       "   Manager_new  Senior Engineer  Senior Staff  Staff  Technique Leader  \\\n",
       "0            0                0             0      0                 0   \n",
       "1            0                0             0      0                 0   \n",
       "2            1                0             0      0                 0   \n",
       "3            0                1             0      0                 0   \n",
       "4            0                0             1      0                 0   \n",
       "\n",
       "         hires  \n",
       "0   344.727273  \n",
       "1  2353.454545  \n",
       "2     3.272727  \n",
       "3   667.272727  \n",
       "4   605.454545  \n",
       "\n",
       "[5 rows x 47 columns]"
      ]
     },
     "execution_count": 20,
     "metadata": {},
     "output_type": "execute_result"
    }
   ],
   "source": [
    "#codified with dummies variables OEM, engine_type and title -> 42 columns\n",
    "address_1 = 'C:/Users/Moanesga/Desktop/Data/Project Table/1985_to_1991_2.csv'\n",
    "ds = pd.read_csv(address_1,delimiter= ';')\n",
    "ds.head(5)"
   ]
  },
  {
   "cell_type": "code",
   "execution_count": 23,
   "metadata": {},
   "outputs": [
    {
     "data": {
      "text/html": [
       "<div>\n",
       "<style>\n",
       "    .dataframe thead tr:only-child th {\n",
       "        text-align: right;\n",
       "    }\n",
       "\n",
       "    .dataframe thead th {\n",
       "        text-align: left;\n",
       "    }\n",
       "\n",
       "    .dataframe tbody tr th {\n",
       "        vertical-align: top;\n",
       "    }\n",
       "</style>\n",
       "<table border=\"1\" class=\"dataframe\">\n",
       "  <thead>\n",
       "    <tr style=\"text-align: right;\">\n",
       "      <th></th>\n",
       "      <th>no_projects</th>\n",
       "    </tr>\n",
       "    <tr>\n",
       "      <th>date</th>\n",
       "      <th></th>\n",
       "    </tr>\n",
       "  </thead>\n",
       "  <tbody>\n",
       "    <tr>\n",
       "      <th>1985-09-30</th>\n",
       "      <td>1</td>\n",
       "    </tr>\n",
       "    <tr>\n",
       "      <th>1985-09-30</th>\n",
       "      <td>1</td>\n",
       "    </tr>\n",
       "    <tr>\n",
       "      <th>1985-09-30</th>\n",
       "      <td>1</td>\n",
       "    </tr>\n",
       "    <tr>\n",
       "      <th>1985-09-30</th>\n",
       "      <td>1</td>\n",
       "    </tr>\n",
       "    <tr>\n",
       "      <th>1985-09-30</th>\n",
       "      <td>1</td>\n",
       "    </tr>\n",
       "  </tbody>\n",
       "</table>\n",
       "</div>"
      ],
      "text/plain": [
       "            no_projects\n",
       "date                   \n",
       "1985-09-30            1\n",
       "1985-09-30            1\n",
       "1985-09-30            1\n",
       "1985-09-30            1\n",
       "1985-09-30            1"
      ]
     },
     "execution_count": 23,
     "metadata": {},
     "output_type": "execute_result"
    }
   ],
   "source": [
    "ds_1 = ds.filter(['date','no_projects'],axis=1)\n",
    "ds_1['date'] = pd.to_datetime(ds_1['date'])\n",
    "ds_2 = ds_1.set_index(ds_1['date'])\n",
    "ds_3 = ds_2.filter(['no_projects'], axis=1)\n",
    "ds_3.head(5)"
   ]
  },
  {
   "cell_type": "code",
   "execution_count": 24,
   "metadata": {},
   "outputs": [
    {
     "name": "stderr",
     "output_type": "stream",
     "text": [
      "C:\\Users\\Moanesga\\Anaconda3\\lib\\site-packages\\statsmodels\\compat\\pandas.py:56: FutureWarning: The pandas.core.datetools module is deprecated and will be removed in a future version. Please use the pandas.tseries module instead.\n",
      "  from pandas.core import datetools\n"
     ]
    }
   ],
   "source": [
    "import scipy \n",
    "from scipy import stats\n",
    "\n",
    "import matplotlib.pyplot as plt\n",
    "from pylab import rcParams\n",
    "import seaborn as sb\n",
    "import statsmodels.tsa.stattools as ts"
   ]
  },
  {
   "cell_type": "code",
   "execution_count": 27,
   "metadata": {},
   "outputs": [
    {
     "data": {
      "text/plain": [
       "<matplotlib.axes._subplots.AxesSubplot at 0x1d89fa8bd30>"
      ]
     },
     "execution_count": 27,
     "metadata": {},
     "output_type": "execute_result"
    },
    {
     "data": {
      "image/png": "[encoded data removed]",
      "text/plain": [
       "<matplotlib.figure.Figure at 0x1d89c100f98>"
      ]
     },
     "metadata": {},
     "output_type": "display_data"
    }
   ],
   "source": [
    "%matplotlib inline\n",
    "rcParams['figure.figsize'] = 8, 5\n",
    "plt.style.use('ggplot')\n",
    "ds_3.plot()"
   ]
  },
  {
   "cell_type": "code",
   "execution_count": 34,
   "metadata": {},
   "outputs": [
    {
     "name": "stderr",
     "output_type": "stream",
     "text": [
      "C:\\Users\\Moanesga\\Anaconda3\\lib\\site-packages\\ipykernel_launcher.py:2: FutureWarning: pd.rolling_mean is deprecated for Series and will be removed in a future version, replace with \n",
      "\tSeries.rolling(window=3,center=False).mean()\n",
      "  \n"
     ]
    }
   ],
   "source": [
    "#Calculating moving average \n",
    "ds_3['MA'] = pd.rolling_mean(ds_3['no_projects'],3)"
   ]
  },
  {
   "cell_type": "code",
   "execution_count": 41,
   "metadata": {},
   "outputs": [],
   "source": [
    "ds['date'] = pd.to_datetime(ds['date'])\n",
    "ds = ds.set_index(ds['date'])"
   ]
  },
  {
   "cell_type": "code",
   "execution_count": 43,
   "metadata": {
    "collapsed": true
   },
   "outputs": [],
   "source": [
    "#Linear regression\n",
    "from sklearn import datasets, linear_model\n",
    "from sklearn.metrics import mean_squared_error, r2_score"
   ]
  },
  {
   "cell_type": "code",
   "execution_count": 92,
   "metadata": {},
   "outputs": [],
   "source": [
    "#Partitioning \n",
    "# Split the data into training/testing sets\n",
    "train = pd.DataFrame(ds.loc['1985-09-30':'1989-12-30'])\n",
    "train_x = train.filter(['Duration','KPI','Category_c','alfa-romero',\n",
    "                       'audi','bmw','chevrolet','dodge','honda',\n",
    "                       'isuzu','jaguar','mazda','mercedes-benz',\n",
    "                       'mercury','mitsubishi','nissan','peugot',\n",
    "                       'plymouth','porsche','renault','saab',\n",
    "                       'subaru','toyota','volkswagen','volvo',\n",
    "                       'rotor','ohc','ohcf','ohcv','dohc','l',\n",
    "                        'Assistant Engineer','Engineer','Manager_new',\n",
    "                       'Senior Engineer','Senior Staff','Staff',\n",
    "                       'Technique Leader','no_projects'])\n",
    "test = pd.DataFrame(ds.loc['1990-03-30':'1991-12-30'])\n",
    "test_x = test.filter(['Duration','KPI','Category_c','alfa-romero',\n",
    "                       'audi','bmw','chevrolet','dodge','honda',\n",
    "                       'isuzu','jaguar','mazda','mercedes-benz',\n",
    "                       'mercury','mitsubishi','nissan','peugot',\n",
    "                       'plymouth','porsche','renault','saab',\n",
    "                       'subaru','toyota','volkswagen','volvo',\n",
    "                       'rotor','ohc','ohcf','ohcv','dohc','l',\n",
    "                        'Assistant Engineer','Engineer','Manager_new',\n",
    "                       'Senior Engineer','Senior Staff','Staff',\n",
    "                       'Technique Leader','no_projects'])\n",
    "\n",
    "# Split the targets into training/testing sets\n",
    "train_y = train.filter(['hires'])\n",
    "test_y = test.filter(['hires'])"
   ]
  },
  {
   "cell_type": "code",
   "execution_count": 93,
   "metadata": {
    "collapsed": true
   },
   "outputs": [],
   "source": [
    "# Create linear regression object\n",
    "regr = linear_model.LinearRegression()"
   ]
  },
  {
   "cell_type": "code",
   "execution_count": 94,
   "metadata": {},
   "outputs": [
    {
     "data": {
      "text/plain": [
       "LinearRegression(copy_X=True, fit_intercept=True, n_jobs=1, normalize=False)"
      ]
     },
     "execution_count": 94,
     "metadata": {},
     "output_type": "execute_result"
    }
   ],
   "source": [
    "# Train the model using the training sets\n",
    "regr.fit(train_x, train_y)"
   ]
  },
  {
   "cell_type": "code",
   "execution_count": 95,
   "metadata": {
    "collapsed": true
   },
   "outputs": [],
   "source": [
    "# Make predictions using the testing set\n",
    "no_projects_y_pred = regr.predict(test_x)"
   ]
  },
  {
   "cell_type": "code",
   "execution_count": 96,
   "metadata": {},
   "outputs": [
    {
     "name": "stdout",
     "output_type": "stream",
     "text": [
      "Coefficients: \n",
      " [[  1.19889289e+02  -1.45307720e+02   2.55795385e-13   1.49256149e+02\n",
      "    1.63424829e-13  -7.07491147e+01   4.21089932e+01  -1.42885149e+02\n",
      "   -1.13686838e-13   8.52651283e-14   0.00000000e+00  -2.27373675e-13\n",
      "   -1.06581410e-14   2.84217094e-14  -4.26325641e-14   3.68594044e-14\n",
      "    0.00000000e+00   0.00000000e+00   0.00000000e+00   0.00000000e+00\n",
      "    2.22691213e+01   0.00000000e+00   0.00000000e+00   0.00000000e+00\n",
      "    0.00000000e+00  -2.27630923e+01   2.22691213e+01   0.00000000e+00\n",
      "    0.00000000e+00   4.93971060e-01  -4.54787923e+02   1.01574448e+03\n",
      "   -6.98340407e+02  -1.99743286e+02  -2.68207714e+02   1.05850266e+03\n",
      "   -4.53167804e+02   3.32722131e+00]]\n",
      "Intercept: \n",
      " [ 263.96899005]\n",
      "Mean squared error: 192069.46\n",
      "R-square: 0.67\n"
     ]
    }
   ],
   "source": [
    "# The coefficients\n",
    "print('Coefficients: \\n', regr.coef_)\n",
    "\n",
    "# Intercept\n",
    "print('Intercept: \\n', regr.intercept_)\n",
    "\n",
    "# The mean squared error\n",
    "print(\"Mean squared error: %.2f\"\n",
    "      % mean_squared_error(test_y, no_projects_y_pred ))\n",
    "# Explained variance score: 1 is perfect prediction\n",
    "print('R-square: %.2f' % r2_score(test_y, no_projects_y_pred))"
   ]
  },
  {
   "cell_type": "code",
   "execution_count": null,
   "metadata": {
    "collapsed": true
   },
   "outputs": [],
   "source": []
  }
 ],
 "metadata": {
  "kernelspec": {
   "display_name": "Python 3",
   "language": "python",
   "name": "python3"
  },
  "language_info": {
   "codemirror_mode": {
    "name": "ipython",
    "version": 3
   },
   "file_extension": ".py",
   "mimetype": "text/x-python",
   "name": "python",
   "nbconvert_exporter": "python",
   "pygments_lexer": "ipython3",
   "version": "3.6.3"
  }
 },
 "nbformat": 4,
 "nbformat_minor": 2
}
